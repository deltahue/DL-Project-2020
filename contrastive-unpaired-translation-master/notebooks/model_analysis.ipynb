{
 "cells": [
  {
   "cell_type": "code",
   "execution_count": 1,
   "metadata": {},
   "outputs": [],
   "source": [
    "import torch"
   ]
  },
  {
   "cell_type": "code",
   "execution_count": 2,
   "metadata": {},
   "outputs": [],
   "source": [
    "model_cycleGAN_path = '../checkpoints/winter2summer_yosemite_pretrained/latest_net_G.pth'\n",
    "model_CUT_path = '../checkpoints/test_init/latest_net_G.pth'"
   ]
  },
  {
   "cell_type": "code",
   "execution_count": 3,
   "metadata": {},
   "outputs": [],
   "source": [
    "model_cG = torch.load(model_cycleGAN_path)\n",
    "model_CUT = torch.load(model_CUT_path)"
   ]
  },
  {
   "cell_type": "code",
   "execution_count": 4,
   "metadata": {},
   "outputs": [
    {
     "name": "stdout",
     "output_type": "stream",
     "text": [
      "odict_keys(['model.1.weight', 'model.1.bias', 'model.2.running_mean', 'model.2.running_var', 'model.2.num_batches_tracked', 'model.4.weight', 'model.4.bias', 'model.5.running_mean', 'model.5.running_var', 'model.5.num_batches_tracked', 'model.7.weight', 'model.7.bias', 'model.8.running_mean', 'model.8.running_var', 'model.8.num_batches_tracked', 'model.10.conv_block.1.weight', 'model.10.conv_block.1.bias', 'model.10.conv_block.2.running_mean', 'model.10.conv_block.2.running_var', 'model.10.conv_block.2.num_batches_tracked', 'model.10.conv_block.5.weight', 'model.10.conv_block.5.bias', 'model.10.conv_block.6.running_mean', 'model.10.conv_block.6.running_var', 'model.10.conv_block.6.num_batches_tracked', 'model.11.conv_block.1.weight', 'model.11.conv_block.1.bias', 'model.11.conv_block.2.running_mean', 'model.11.conv_block.2.running_var', 'model.11.conv_block.2.num_batches_tracked', 'model.11.conv_block.5.weight', 'model.11.conv_block.5.bias', 'model.11.conv_block.6.running_mean', 'model.11.conv_block.6.running_var', 'model.11.conv_block.6.num_batches_tracked', 'model.12.conv_block.1.weight', 'model.12.conv_block.1.bias', 'model.12.conv_block.2.running_mean', 'model.12.conv_block.2.running_var', 'model.12.conv_block.2.num_batches_tracked', 'model.12.conv_block.5.weight', 'model.12.conv_block.5.bias', 'model.12.conv_block.6.running_mean', 'model.12.conv_block.6.running_var', 'model.12.conv_block.6.num_batches_tracked', 'model.13.conv_block.1.weight', 'model.13.conv_block.1.bias', 'model.13.conv_block.2.running_mean', 'model.13.conv_block.2.running_var', 'model.13.conv_block.2.num_batches_tracked', 'model.13.conv_block.5.weight', 'model.13.conv_block.5.bias', 'model.13.conv_block.6.running_mean', 'model.13.conv_block.6.running_var', 'model.13.conv_block.6.num_batches_tracked', 'model.14.conv_block.1.weight', 'model.14.conv_block.1.bias', 'model.14.conv_block.2.running_mean', 'model.14.conv_block.2.running_var', 'model.14.conv_block.2.num_batches_tracked', 'model.14.conv_block.5.weight', 'model.14.conv_block.5.bias', 'model.14.conv_block.6.running_mean', 'model.14.conv_block.6.running_var', 'model.14.conv_block.6.num_batches_tracked', 'model.15.conv_block.1.weight', 'model.15.conv_block.1.bias', 'model.15.conv_block.2.running_mean', 'model.15.conv_block.2.running_var', 'model.15.conv_block.2.num_batches_tracked', 'model.15.conv_block.5.weight', 'model.15.conv_block.5.bias', 'model.15.conv_block.6.running_mean', 'model.15.conv_block.6.running_var', 'model.15.conv_block.6.num_batches_tracked', 'model.16.conv_block.1.weight', 'model.16.conv_block.1.bias', 'model.16.conv_block.2.running_mean', 'model.16.conv_block.2.running_var', 'model.16.conv_block.2.num_batches_tracked', 'model.16.conv_block.5.weight', 'model.16.conv_block.5.bias', 'model.16.conv_block.6.running_mean', 'model.16.conv_block.6.running_var', 'model.16.conv_block.6.num_batches_tracked', 'model.17.conv_block.1.weight', 'model.17.conv_block.1.bias', 'model.17.conv_block.2.running_mean', 'model.17.conv_block.2.running_var', 'model.17.conv_block.2.num_batches_tracked', 'model.17.conv_block.5.weight', 'model.17.conv_block.5.bias', 'model.17.conv_block.6.running_mean', 'model.17.conv_block.6.running_var', 'model.17.conv_block.6.num_batches_tracked', 'model.18.conv_block.1.weight', 'model.18.conv_block.1.bias', 'model.18.conv_block.2.running_mean', 'model.18.conv_block.2.running_var', 'model.18.conv_block.2.num_batches_tracked', 'model.18.conv_block.5.weight', 'model.18.conv_block.5.bias', 'model.18.conv_block.6.running_mean', 'model.18.conv_block.6.running_var', 'model.18.conv_block.6.num_batches_tracked', 'model.19.weight', 'model.19.bias', 'model.20.running_mean', 'model.20.running_var', 'model.20.num_batches_tracked', 'model.22.weight', 'model.22.bias', 'model.23.running_mean', 'model.23.running_var', 'model.23.num_batches_tracked', 'model.26.weight', 'model.26.bias'])\n",
      "odict_keys(['module.model.1.weight', 'module.model.1.bias', 'module.model.4.weight', 'module.model.4.bias', 'module.model.7.filt', 'module.model.8.weight', 'module.model.8.bias', 'module.model.11.filt', 'module.model.12.conv_block.1.weight', 'module.model.12.conv_block.1.bias', 'module.model.12.conv_block.5.weight', 'module.model.12.conv_block.5.bias', 'module.model.13.conv_block.1.weight', 'module.model.13.conv_block.1.bias', 'module.model.13.conv_block.5.weight', 'module.model.13.conv_block.5.bias', 'module.model.14.conv_block.1.weight', 'module.model.14.conv_block.1.bias', 'module.model.14.conv_block.5.weight', 'module.model.14.conv_block.5.bias', 'module.model.15.conv_block.1.weight', 'module.model.15.conv_block.1.bias', 'module.model.15.conv_block.5.weight', 'module.model.15.conv_block.5.bias', 'module.model.16.conv_block.1.weight', 'module.model.16.conv_block.1.bias', 'module.model.16.conv_block.5.weight', 'module.model.16.conv_block.5.bias', 'module.model.17.conv_block.1.weight', 'module.model.17.conv_block.1.bias', 'module.model.17.conv_block.5.weight', 'module.model.17.conv_block.5.bias', 'module.model.18.conv_block.1.weight', 'module.model.18.conv_block.1.bias', 'module.model.18.conv_block.5.weight', 'module.model.18.conv_block.5.bias', 'module.model.19.conv_block.1.weight', 'module.model.19.conv_block.1.bias', 'module.model.19.conv_block.5.weight', 'module.model.19.conv_block.5.bias', 'module.model.20.conv_block.1.weight', 'module.model.20.conv_block.1.bias', 'module.model.20.conv_block.5.weight', 'module.model.20.conv_block.5.bias', 'module.model.21.filt', 'module.model.22.weight', 'module.model.22.bias', 'module.model.25.filt', 'module.model.26.weight', 'module.model.26.bias', 'module.model.30.weight', 'module.model.30.bias'])\n"
     ]
    }
   ],
   "source": [
    "print(model_cG.keys())\n",
    "print(model_CUT.keys())"
   ]
  },
  {
   "cell_type": "code",
   "execution_count": 72,
   "metadata": {},
   "outputs": [
    {
     "name": "stdout",
     "output_type": "stream",
     "text": [
      "module.model.1.weight\n",
      "module.model.1.bias\n",
      "model.2.running_mean does not exist\n",
      "model.2.running_var does not exist\n",
      "model.2.num_batches_tracked does not exist\n",
      "module.model.4.weight\n",
      "module.model.4.bias\n",
      "model.5.running_mean does not exist\n",
      "model.5.running_var does not exist\n",
      "model.5.num_batches_tracked does not exist\n",
      "model.7.weight does not exist\n",
      "model.7.bias does not exist\n",
      "model.8.running_mean does not exist\n",
      "model.8.running_var does not exist\n",
      "model.8.num_batches_tracked does not exist\n",
      "model.10.conv_block.1.weight does not exist\n",
      "model.10.conv_block.1.bias does not exist\n",
      "model.10.conv_block.2.running_mean does not exist\n",
      "model.10.conv_block.2.running_var does not exist\n",
      "model.10.conv_block.2.num_batches_tracked does not exist\n",
      "model.10.conv_block.5.weight does not exist\n",
      "model.10.conv_block.5.bias does not exist\n",
      "model.10.conv_block.6.running_mean does not exist\n",
      "model.10.conv_block.6.running_var does not exist\n",
      "model.10.conv_block.6.num_batches_tracked does not exist\n",
      "model.11.conv_block.1.weight does not exist\n",
      "model.11.conv_block.1.bias does not exist\n",
      "model.11.conv_block.2.running_mean does not exist\n",
      "model.11.conv_block.2.running_var does not exist\n",
      "model.11.conv_block.2.num_batches_tracked does not exist\n",
      "model.11.conv_block.5.weight does not exist\n",
      "model.11.conv_block.5.bias does not exist\n",
      "model.11.conv_block.6.running_mean does not exist\n",
      "model.11.conv_block.6.running_var does not exist\n",
      "model.11.conv_block.6.num_batches_tracked does not exist\n",
      "module.model.12.conv_block.1.weight\n",
      "module.model.12.conv_block.1.bias\n",
      "model.12.conv_block.2.running_mean does not exist\n",
      "model.12.conv_block.2.running_var does not exist\n",
      "model.12.conv_block.2.num_batches_tracked does not exist\n",
      "module.model.12.conv_block.5.weight\n",
      "module.model.12.conv_block.5.bias\n",
      "model.12.conv_block.6.running_mean does not exist\n",
      "model.12.conv_block.6.running_var does not exist\n",
      "model.12.conv_block.6.num_batches_tracked does not exist\n",
      "module.model.13.conv_block.1.weight\n",
      "module.model.13.conv_block.1.bias\n",
      "model.13.conv_block.2.running_mean does not exist\n",
      "model.13.conv_block.2.running_var does not exist\n",
      "model.13.conv_block.2.num_batches_tracked does not exist\n",
      "module.model.13.conv_block.5.weight\n",
      "module.model.13.conv_block.5.bias\n",
      "model.13.conv_block.6.running_mean does not exist\n",
      "model.13.conv_block.6.running_var does not exist\n",
      "model.13.conv_block.6.num_batches_tracked does not exist\n",
      "module.model.14.conv_block.1.weight\n",
      "module.model.14.conv_block.1.bias\n",
      "model.14.conv_block.2.running_mean does not exist\n",
      "model.14.conv_block.2.running_var does not exist\n",
      "model.14.conv_block.2.num_batches_tracked does not exist\n",
      "module.model.14.conv_block.5.weight\n",
      "module.model.14.conv_block.5.bias\n",
      "model.14.conv_block.6.running_mean does not exist\n",
      "model.14.conv_block.6.running_var does not exist\n",
      "model.14.conv_block.6.num_batches_tracked does not exist\n",
      "module.model.15.conv_block.1.weight\n",
      "module.model.15.conv_block.1.bias\n",
      "model.15.conv_block.2.running_mean does not exist\n",
      "model.15.conv_block.2.running_var does not exist\n",
      "model.15.conv_block.2.num_batches_tracked does not exist\n",
      "module.model.15.conv_block.5.weight\n",
      "module.model.15.conv_block.5.bias\n",
      "model.15.conv_block.6.running_mean does not exist\n",
      "model.15.conv_block.6.running_var does not exist\n",
      "model.15.conv_block.6.num_batches_tracked does not exist\n",
      "module.model.16.conv_block.1.weight\n",
      "module.model.16.conv_block.1.bias\n",
      "model.16.conv_block.2.running_mean does not exist\n",
      "model.16.conv_block.2.running_var does not exist\n",
      "model.16.conv_block.2.num_batches_tracked does not exist\n",
      "module.model.16.conv_block.5.weight\n",
      "module.model.16.conv_block.5.bias\n",
      "model.16.conv_block.6.running_mean does not exist\n",
      "model.16.conv_block.6.running_var does not exist\n",
      "model.16.conv_block.6.num_batches_tracked does not exist\n",
      "module.model.17.conv_block.1.weight\n",
      "module.model.17.conv_block.1.bias\n",
      "model.17.conv_block.2.running_mean does not exist\n",
      "model.17.conv_block.2.running_var does not exist\n",
      "model.17.conv_block.2.num_batches_tracked does not exist\n",
      "module.model.17.conv_block.5.weight\n",
      "module.model.17.conv_block.5.bias\n",
      "model.17.conv_block.6.running_mean does not exist\n",
      "model.17.conv_block.6.running_var does not exist\n",
      "model.17.conv_block.6.num_batches_tracked does not exist\n",
      "module.model.18.conv_block.1.weight\n",
      "module.model.18.conv_block.1.bias\n",
      "model.18.conv_block.2.running_mean does not exist\n",
      "model.18.conv_block.2.running_var does not exist\n",
      "model.18.conv_block.2.num_batches_tracked does not exist\n",
      "module.model.18.conv_block.5.weight\n",
      "module.model.18.conv_block.5.bias\n",
      "model.18.conv_block.6.running_mean does not exist\n",
      "model.18.conv_block.6.running_var does not exist\n",
      "model.18.conv_block.6.num_batches_tracked does not exist\n",
      "model.19.weight does not exist\n",
      "model.19.bias does not exist\n",
      "model.20.running_mean does not exist\n",
      "model.20.running_var does not exist\n",
      "model.20.num_batches_tracked does not exist\n",
      "module.model.22.weight\n",
      "model.22.bias hes a different length\n",
      "model.23.running_mean does not exist\n",
      "model.23.running_var does not exist\n",
      "model.23.num_batches_tracked does not exist\n",
      "model.26.weight hes a different length\n",
      "model.26.bias hes a different length\n",
      "52\n",
      "module.model.7.filt\n",
      "module.model.8.weight\n",
      "module.model.8.bias\n",
      "module.model.11.filt\n",
      "module.model.19.conv_block.1.weight\n",
      "module.model.19.conv_block.1.bias\n",
      "module.model.19.conv_block.5.weight\n",
      "module.model.19.conv_block.5.bias\n",
      "module.model.20.conv_block.1.weight\n",
      "module.model.20.conv_block.1.bias\n",
      "module.model.20.conv_block.5.weight\n",
      "module.model.20.conv_block.5.bias\n",
      "module.model.21.filt\n",
      "module.model.22.bias\n",
      "module.model.25.filt\n",
      "module.model.26.weight\n",
      "module.model.26.bias\n",
      "module.model.30.weight\n",
      "module.model.30.bias\n",
      "52\n"
     ]
    }
   ],
   "source": [
    "model_adapted = model_CUT.copy()\n",
    "for key, value in model_cG.items():\n",
    "    \n",
    "    try:\n",
    "        if len(model_CUT['module.'+key]) == len(model_cG[key]):\n",
    "            print('module.'+key)\n",
    "            model_adapted[key] = model_cG[key]\n",
    "            del model_adapted['module.'+ key]\n",
    "        else: print(key + ' hes a different length')\n",
    "    except: \n",
    "        KeyError\n",
    "        print(key + ' does not exist')\n",
    "\n",
    "print(len(model_adapted.keys()))\n",
    "keys = list(model_adapted.keys())\n",
    "\n",
    "for key in keys:\n",
    "    if key[:7] == 'module.':\n",
    "        model_adapted[key[7:]] = model_adapted[key]\n",
    "        del model_adapted[key]\n",
    "        print(key)\n",
    "\n",
    "print(len(model_adapted.keys()))\n",
    "\n",
    "# some manual values\n",
    "\n",
    "model_adapted['model.1.weight'] = model_CUT['module.model.1.weight']\n",
    "model_adapted['model.22.weight'] = model_CUT['module.model.22.weight']\n",
    "model_adapted['model.30.weight'] = model_CUT['module.model.30.weight']\n"
   ]
  },
  {
   "cell_type": "code",
   "execution_count": 75,
   "metadata": {},
   "outputs": [],
   "source": [
    "torch.save(model_adapted, '../checkpoints/adapted_model_wo_module_pretrained/latest_net_G.pth', _use_new_zipfile_serialization=False)"
   ]
  },
  {
   "cell_type": "code",
   "execution_count": 35,
   "metadata": {},
   "outputs": [],
   "source": [
    "m_reload = torch.load('../checkpoints/adapted_model_wo_module_pretrained/latest_net_G.pth')"
   ]
  },
  {
   "cell_type": "code",
   "execution_count": 36,
   "metadata": {},
   "outputs": [
    {
     "data": {
      "text/plain": [
       "odict_keys(['model.1.weight', 'model.1.bias', 'model.4.weight', 'model.4.bias', 'model.12.conv_block.1.weight', 'model.12.conv_block.1.bias', 'model.12.conv_block.5.weight', 'model.12.conv_block.5.bias', 'model.13.conv_block.1.weight', 'model.13.conv_block.1.bias', 'model.13.conv_block.5.weight', 'model.13.conv_block.5.bias', 'model.14.conv_block.1.weight', 'model.14.conv_block.1.bias', 'model.14.conv_block.5.weight', 'model.14.conv_block.5.bias', 'model.15.conv_block.1.weight', 'model.15.conv_block.1.bias', 'model.15.conv_block.5.weight', 'model.15.conv_block.5.bias', 'model.16.conv_block.1.weight', 'model.16.conv_block.1.bias', 'model.16.conv_block.5.weight', 'model.16.conv_block.5.bias', 'model.17.conv_block.1.weight', 'model.17.conv_block.1.bias', 'model.17.conv_block.5.weight', 'model.17.conv_block.5.bias', 'model.18.conv_block.1.weight', 'model.18.conv_block.1.bias', 'model.18.conv_block.5.weight', 'model.18.conv_block.5.bias', 'model.22.weight', 'model.7.filt', 'model.8.weight', 'model.8.bias', 'model.11.filt', 'model.19.conv_block.1.weight', 'model.19.conv_block.1.bias', 'model.19.conv_block.5.weight', 'model.19.conv_block.5.bias', 'model.20.conv_block.1.weight', 'model.20.conv_block.1.bias', 'model.20.conv_block.5.weight', 'model.20.conv_block.5.bias', 'model.21.filt', 'model.22.bias', 'model.25.filt', 'model.26.weight', 'model.26.bias', 'model.30.weight', 'model.30.bias'])"
      ]
     },
     "execution_count": 36,
     "metadata": {},
     "output_type": "execute_result"
    }
   ],
   "source": [
    "m_reload.keys()"
   ]
  },
  {
   "cell_type": "code",
   "execution_count": null,
   "metadata": {},
   "outputs": [],
   "source": [
    "torch.tensor.([3,64,7,7])"
   ]
  }
 ],
 "metadata": {
  "kernelspec": {
   "display_name": "Python 3",
   "language": "python",
   "name": "python3"
  },
  "language_info": {
   "codemirror_mode": {
    "name": "ipython",
    "version": 3
   },
   "file_extension": ".py",
   "mimetype": "text/x-python",
   "name": "python",
   "nbconvert_exporter": "python",
   "pygments_lexer": "ipython3",
   "version": "3.8.3"
  }
 },
 "nbformat": 4,
 "nbformat_minor": 2
}
