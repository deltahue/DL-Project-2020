{
 "cells": [
  {
   "cell_type": "code",
   "execution_count": 21,
   "metadata": {},
   "outputs": [],
   "source": [
    "import cv2\n",
    "import os\n"
   ]
  },
  {
   "cell_type": "code",
   "execution_count": 22,
   "metadata": {},
   "outputs": [
    {
     "data": {
      "text/plain": [
       "['realB_up',\n",
       " 'make_dataset_aligned.py',\n",
       " 'TRAIN_HN_slices_small',\n",
       " 'download_cut_dataset.sh',\n",
       " 'HN_MRIdian_CTbodymasks_axialslices',\n",
       " 'realA',\n",
       " 'realA_up',\n",
       " 'detect_cat_face.py',\n",
       " 'model_adaption_yosemity_winter',\n",
       " 'download_pix2pix_dataset.sh',\n",
       " 'single_image_monet_etretat',\n",
       " 'realB',\n",
       " 'combine_A_and_B.py',\n",
       " 'bibtex',\n",
       " 'prepare_cityscapes_dataset.py']"
      ]
     },
     "execution_count": 22,
     "metadata": {},
     "output_type": "execute_result"
    }
   ],
   "source": [
    "ls = os.listdir('../datasets/realB')\n",
    "try:\n",
    "    os.makedirs('../datasets/realB_up')\n",
    "except:\n",
    "    pass\n",
    "os.listdir('../datasets')"
   ]
  },
  {
   "cell_type": "code",
   "execution_count": 23,
   "metadata": {},
   "outputs": [],
   "source": [
    "for imgp in ls:\n",
    "    img = cv2.imread(os.path.join('../datasets/realB', imgp))\n",
    "    \n",
    "    img = cv2.resize(img, (512,512))\n",
    "    \n",
    "    cv2.imwrite(os.path.join('../datasets/realB_up', imgp), img)\n",
    "    "
   ]
  },
  {
   "cell_type": "code",
   "execution_count": null,
   "metadata": {},
   "outputs": [],
   "source": []
  }
 ],
 "metadata": {
  "kernelspec": {
   "display_name": "Python 3",
   "language": "python",
   "name": "python3"
  },
  "language_info": {
   "codemirror_mode": {
    "name": "ipython",
    "version": 3
   },
   "file_extension": ".py",
   "mimetype": "text/x-python",
   "name": "python",
   "nbconvert_exporter": "python",
   "pygments_lexer": "ipython3",
   "version": "3.8.3"
  }
 },
 "nbformat": 4,
 "nbformat_minor": 2
}
